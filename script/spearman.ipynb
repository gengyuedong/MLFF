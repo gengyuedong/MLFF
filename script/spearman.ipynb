{
 "cells": [
  {
   "cell_type": "code",
   "execution_count": 1,
   "metadata": {},
   "outputs": [],
   "source": [
    "import pickle\n",
    "from scipy.stats import spearmanr\n",
    "import numpy as np"
   ]
  },
  {
   "cell_type": "code",
   "execution_count": 2,
   "metadata": {},
   "outputs": [],
   "source": [
    "with open('test_ant.pkl', 'rb') as f:\n",
    "    ant_dic = pickle.load(f)\n",
    "with open('../m3gnet_2024_01_04_21_04_80_epochs/ant_energies.pkl','rb') as f:\n",
    "    ant_energy_ff = pickle.load(f)\n",
    "    \n",
    "with open('test_int.pkl', 'rb') as f:\n",
    "    int_dic = pickle.load(f)\n",
    "with open('../m3gnet_2024_01_04_21_04_80_epochs/int_energies.pkl','rb') as f:\n",
    "    int_energy_ff = pickle.load(f)"
   ]
  },
  {
   "cell_type": "code",
   "execution_count": 3,
   "metadata": {},
   "outputs": [
    {
     "name": "stdout",
     "output_type": "stream",
     "text": [
      "the spearman coefficient of anti-ite defect is 0.9213574306472749\n",
      "the spearman coefficient of interstitial defect is 0.5735781078821782\n"
     ]
    }
   ],
   "source": [
    "ant_energy_dft = ant_dic['energy']\n",
    "# print(np.shape(ant_energy_dft))\n",
    "print('the spearman coefficient of anti-ite defect is', spearmanr(ant_energy_dft,ant_energy_ff)[0])\n",
    "int_energy_dft = int_dic['energy']\n",
    "# print(np.shape(ant_energy_dft))\n",
    "print('the spearman coefficient of interstitial defect is', spearmanr(int_energy_dft,int_energy_ff)[0])"
   ]
  },
  {
   "cell_type": "code",
   "execution_count": null,
   "metadata": {},
   "outputs": [],
   "source": []
  }
 ],
 "metadata": {
  "kernelspec": {
   "display_name": "base",
   "language": "python",
   "name": "python3"
  },
  "language_info": {
   "codemirror_mode": {
    "name": "ipython",
    "version": 3
   },
   "file_extension": ".py",
   "mimetype": "text/x-python",
   "name": "python",
   "nbconvert_exporter": "python",
   "pygments_lexer": "ipython3",
   "version": "3.11.7"
  }
 },
 "nbformat": 4,
 "nbformat_minor": 2
}
