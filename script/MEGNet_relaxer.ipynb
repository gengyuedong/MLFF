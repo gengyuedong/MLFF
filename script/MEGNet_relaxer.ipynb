{
 "cells": [
  {
   "cell_type": "code",
   "execution_count": 1,
   "metadata": {},
   "outputs": [
    {
     "name": "stderr",
     "output_type": "stream",
     "text": [
      "2024-01-05 15:08:00.110365: I tensorflow/core/platform/cpu_feature_guard.cc:182] This TensorFlow binary is optimized to use available CPU instructions in performance-critical operations.\n",
      "To enable the following instructions: AVX2 FMA, in other operations, rebuild TensorFlow with the appropriate compiler flags.\n"
     ]
    },
    {
     "name": "stdout",
     "output_type": "stream",
     "text": [
      "WARNING:tensorflow:You are casting an input of type complex64 to an incompatible dtype float32.  This will discard the imaginary part and may not be what you intended.\n",
      "WARNING:tensorflow:You are casting an input of type complex64 to an incompatible dtype float32.  This will discard the imaginary part and may not be what you intended.\n",
      "WARNING:tensorflow:You are casting an input of type complex64 to an incompatible dtype float32.  This will discard the imaginary part and may not be what you intended.\n",
      "WARNING:tensorflow:You are casting an input of type complex64 to an incompatible dtype float32.  This will discard the imaginary part and may not be what you intended.\n",
      "WARNING:tensorflow:You are casting an input of type complex64 to an incompatible dtype float32.  This will discard the imaginary part and may not be what you intended.\n",
      "WARNING:tensorflow:You are casting an input of type complex64 to an incompatible dtype float32.  This will discard the imaginary part and may not be what you intended.\n",
      "WARNING:tensorflow:You are casting an input of type complex64 to an incompatible dtype float32.  This will discard the imaginary part and may not be what you intended.\n"
     ]
    }
   ],
   "source": [
    "from m3gnet.models import M3GNet, Relaxer\n",
    "from m3gnet.models._base import Potential\n",
    "import pickle\n",
    "\n",
    "# Load pretrained model\n",
    "path_model = 'm3gnet_2024_01_04_21_04_80_epochs'\n",
    "m3gnet = M3GNet(is_intensive=False)\n",
    "m3gnet = m3gnet.load(model_name=path_model)\n",
    "\n",
    "potential = Potential(m3gnet)\n",
    "relaxer = Relaxer(\n",
    "    potential=path_model,\n",
    "    relax_cell=False, # note this! we dont wanna optimise the cell\n",
    ")\n",
    "calc = relaxer.calculator\n",
    "\n",
    "# Load the test data\n",
    "int_file = 'test_int.pkl'\n",
    "ant_file = 'test_ant.pkl'\n",
    "with open(int_file, \"rb\") as f:\n",
    "    int_data = pickle.load(f)\n",
    "# Load ant data\n",
    "with open(ant_file, \"rb\") as f:\n",
    "    ant_data = pickle.load(f)\n",
    "# For each structure in val[\"structures\"], calculate the energy, force and stress\n",
    "energies_ff_int = []\n",
    "forces_ff_int = []\n",
    "stress_ff_int = []\n",
    "\n",
    "# Loop over structures in test set\n",
    "for s in int_data[\"structure\"]:\n",
    "    calc.calculate(\n",
    "        atoms=s,\n",
    "        properties=[\"energy\", \"forces\", \"stress\"]\n",
    "    )\n",
    "    # Save predictions to list\n",
    "    energies_ff_int.append(calc.results['energy'])\n",
    "    forces_ff_int.append(calc.results['forces'])\n",
    "    stress_ff_int.append(calc.results['stress'])\n",
    "\n",
    "# For each structure in val[\"structures\"], calculate the energy, force and stress\n",
    "energies_ff_ant = []\n",
    "forces_ff_ant = []\n",
    "stress_ff_ant = []\n",
    "\n",
    "# Loop over structures in test set\n",
    "for s in ant_data[\"structure\"]:\n",
    "    calc.calculate(\n",
    "        atoms=s,\n",
    "        properties=[\"energy\", \"forces\", \"stress\"]\n",
    "    )\n",
    "    # Save predictions to list\n",
    "    energies_ff_ant.append(calc.results['energy'])\n",
    "    forces_ff_ant.append(calc.results['forces'])\n",
    "    stress_ff_ant.append(calc.results['stress'])\n"
   ]
  },
  {
   "cell_type": "code",
   "execution_count": 2,
   "metadata": {},
   "outputs": [],
   "source": [
    "# Save predictions to pickle file\n",
    "with open(f\"{path_model}/int_energies.pkl\", \"wb\") as f:\n",
    "    pickle.dump(energies_ff_int, f)\n",
    "with open(f\"{path_model}/int_forces.pkl\", \"wb\") as f:\n",
    "    pickle.dump(forces_ff_int, f)\n",
    "with open(f\"{path_model}/int_stress.pkl\", \"wb\") as f:\n",
    "    pickle.dump(stress_ff_int, f)\n",
    "with open(f\"{path_model}/ant_energies.pkl\", \"wb\") as f:\n",
    "    pickle.dump(energies_ff_ant, f)\n",
    "with open(f\"{path_model}/ant_forces.pkl\", \"wb\") as f:\n",
    "    pickle.dump(forces_ff_ant, f)\n",
    "with open(f\"{path_model}/ant_stress.pkl\", \"wb\") as f:\n",
    "    pickle.dump(stress_ff_ant, f)"
   ]
  },
  {
   "cell_type": "code",
   "execution_count": 3,
   "metadata": {},
   "outputs": [],
   "source": [
    "# print(energies_ff)\n",
    "# print(forces_ff)\n",
    "# print(stress_ff)"
   ]
  },
  {
   "cell_type": "code",
   "execution_count": null,
   "metadata": {},
   "outputs": [],
   "source": []
  }
 ],
 "metadata": {
  "kernelspec": {
   "display_name": "base",
   "language": "python",
   "name": "python3"
  },
  "language_info": {
   "codemirror_mode": {
    "name": "ipython",
    "version": 3
   },
   "file_extension": ".py",
   "mimetype": "text/x-python",
   "name": "python",
   "nbconvert_exporter": "python",
   "pygments_lexer": "ipython3",
   "version": "3.11.5"
  }
 },
 "nbformat": 4,
 "nbformat_minor": 2
}
